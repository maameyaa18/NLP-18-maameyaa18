{
 "cells": [
  {
   "cell_type": "code",
   "execution_count": 4,
   "metadata": {},
   "outputs": [
    {
     "ename": "IndexError",
     "evalue": "string index out of range",
     "output_type": "error",
     "traceback": [
      "\u001b[1;31m---------------------------------------------------------------------------\u001b[0m",
      "\u001b[1;31mIndexError\u001b[0m                                Traceback (most recent call last)",
      "\u001b[1;32m<ipython-input-4-1aca3bf2cb9a>\u001b[0m in \u001b[0;36m<module>\u001b[1;34m()\u001b[0m\n\u001b[0;32m     33\u001b[0m \u001b[1;33m\u001b[0m\u001b[0m\n\u001b[0;32m     34\u001b[0m     \u001b[1;32mreturn\u001b[0m\u001b[1;33m(\u001b[0m\u001b[0mmatrix\u001b[0m\u001b[1;33m)\u001b[0m\u001b[1;33m\u001b[0m\u001b[0m\n\u001b[1;32m---> 35\u001b[1;33m \u001b[0mMEDistance\u001b[0m\u001b[1;33m(\u001b[0m\u001b[1;34m\"intention\"\u001b[0m\u001b[1;33m,\u001b[0m\u001b[1;34m\"execution\"\u001b[0m\u001b[1;33m)\u001b[0m\u001b[1;33m\u001b[0m\u001b[0m\n\u001b[0m",
      "\u001b[1;32m<ipython-input-4-1aca3bf2cb9a>\u001b[0m in \u001b[0;36mMEDistance\u001b[1;34m(source, target)\u001b[0m\n\u001b[0;32m     21\u001b[0m     \u001b[1;31m#Row value initialization\u001b[0m\u001b[1;33m\u001b[0m\u001b[1;33m\u001b[0m\u001b[0m\n\u001b[0;32m     22\u001b[0m     \u001b[1;32mfor\u001b[0m \u001b[0mi\u001b[0m \u001b[1;32min\u001b[0m \u001b[0mrange\u001b[0m\u001b[1;33m(\u001b[0m\u001b[1;36m1\u001b[0m\u001b[1;33m,\u001b[0m\u001b[0mwidth\u001b[0m\u001b[1;33m)\u001b[0m\u001b[1;33m:\u001b[0m\u001b[1;33m\u001b[0m\u001b[0m\n\u001b[1;32m---> 23\u001b[1;33m         \u001b[0mmatrix\u001b[0m\u001b[1;33m[\u001b[0m\u001b[0mi\u001b[0m\u001b[1;33m]\u001b[0m\u001b[1;33m[\u001b[0m\u001b[1;36m0\u001b[0m\u001b[1;33m]\u001b[0m \u001b[1;33m=\u001b[0m \u001b[0mmatrix\u001b[0m\u001b[1;33m[\u001b[0m\u001b[0mi\u001b[0m\u001b[1;33m-\u001b[0m\u001b[1;36m1\u001b[0m\u001b[1;33m]\u001b[0m\u001b[1;33m[\u001b[0m\u001b[1;36m0\u001b[0m\u001b[1;33m]\u001b[0m\u001b[1;33m+\u001b[0m\u001b[0mdel_cost\u001b[0m\u001b[1;33m(\u001b[0m\u001b[0msource\u001b[0m\u001b[1;33m[\u001b[0m\u001b[0mi\u001b[0m\u001b[1;33m]\u001b[0m\u001b[1;33m)\u001b[0m\u001b[1;33m\u001b[0m\u001b[0m\n\u001b[0m\u001b[0;32m     24\u001b[0m \u001b[1;33m\u001b[0m\u001b[0m\n\u001b[0;32m     25\u001b[0m     \u001b[1;31m#Column value initialization\u001b[0m\u001b[1;33m\u001b[0m\u001b[1;33m\u001b[0m\u001b[0m\n",
      "\u001b[1;31mIndexError\u001b[0m: string index out of range"
     ]
    }
   ],
   "source": [
    "'''\n",
    "Function to calculate for the Minimum Edit Distance between two words\n",
    "'''\n",
    "def MEDistance(source,target):\n",
    "    #Creating distance matrix\n",
    "    width = len(target)+1\n",
    "    height = len(source)+1\n",
    "    matrix = [[0 for x in range (width)] for y in range (height)]\n",
    "    \n",
    "    #Initialising cost variables\n",
    "    def del_cost(source):\n",
    "        return 1\n",
    "    def ins_cost(target):\n",
    "        return 1\n",
    "    def sub_cost(source,target):\n",
    "        if source==target:\n",
    "            return 0\n",
    "        else:\n",
    "            return 2\n",
    "   \n",
    "    #Row value initialization\n",
    "    for i in range(1,width):\n",
    "        matrix[i][0] = matrix[i-1][0]+del_cost(source[i-1])\n",
    "        \n",
    "    #Column value initialization\n",
    "    for j in range(1,height):\n",
    "        matrix[0][j] = matrix[0][j-1]+ins_cost(target[j-1])\n",
    "\n",
    "    #Recurrence relation\n",
    "    for i in range(1,width):\n",
    "         for j in range(1,height):\n",
    "                matrix[i][j] = min(matrix[i-1][j]+del_cost(source[i-1]), matrix[i-1][j-1]+sub_cost(source[i],target[j]), matrix[i][j-1]+ins_cost(target[j]))\n",
    "        \n",
    "    return(matrix)\n",
    "MEDistance(\"intention\",\"execution\")"
   ]
  },
  {
   "cell_type": "code",
   "execution_count": null,
   "metadata": {
    "collapsed": true
   },
   "outputs": [],
   "source": []
  }
 ],
 "metadata": {
  "kernelspec": {
   "display_name": "Python 3",
   "language": "python",
   "name": "python3"
  },
  "language_info": {
   "codemirror_mode": {
    "name": "ipython",
    "version": 3
   },
   "file_extension": ".py",
   "mimetype": "text/x-python",
   "name": "python",
   "nbconvert_exporter": "python",
   "pygments_lexer": "ipython3",
   "version": "3.6.3"
  }
 },
 "nbformat": 4,
 "nbformat_minor": 2
}
