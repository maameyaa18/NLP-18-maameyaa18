{
 "cells": [
  {
   "cell_type": "code",
   "execution_count": 1,
   "metadata": {},
   "outputs": [
    {
     "name": "stdout",
     "output_type": "stream",
     "text": [
      "[[0, 0, 0, 0], [0, 0, 0, 0], [0, 0, 0, 0], [0, 0, 0, 0]]\n"
     ]
    }
   ],
   "source": [
    "'''\n",
    "Function to calculate for the Minimum Edit Distance between two words\n",
    "'''\n",
    "def MEDistance(source,target):\n",
    "    #Creating distance matrix\n",
    "    width = len(target)+1\n",
    "    height = len(source)+1\n",
    "    matrix = [[0 for x in range (width)] for y in range (height)]\n",
    "    \n",
    "    #Initialising cost variables\n",
    "    del_cost, ins_cost =1\n",
    "    sub_cost =\n",
    "   \n",
    "    #Row value initialization\n",
    "    for i in range(1,width):\n",
    "        matrix[i][0] = matrix[i-1][0]+del_cost\n",
    "        \n",
    "    #Column value initialization\n",
    "    for i in range(1,height):\n",
    "        matrix[0][i] = matrix[0][i-1]+ins_cost\n",
    "\n",
    "    #Recurrence relation\n",
    "        \n",
    "   "
   ]
  },
  {
   "cell_type": "code",
   "execution_count": null,
   "metadata": {
    "collapsed": true
   },
   "outputs": [],
   "source": []
  }
 ],
 "metadata": {
  "kernelspec": {
   "display_name": "Python 3",
   "language": "python",
   "name": "python3"
  },
  "language_info": {
   "codemirror_mode": {
    "name": "ipython",
    "version": 3
   },
   "file_extension": ".py",
   "mimetype": "text/x-python",
   "name": "python",
   "nbconvert_exporter": "python",
   "pygments_lexer": "ipython3",
   "version": "3.6.3"
  }
 },
 "nbformat": 4,
 "nbformat_minor": 2
}
