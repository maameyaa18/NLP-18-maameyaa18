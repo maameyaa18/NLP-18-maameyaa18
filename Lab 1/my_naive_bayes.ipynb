{
 "cells": [
  {
   "cell_type": "code",
   "execution_count": null,
   "metadata": {
    "collapsed": true
   },
   "outputs": [],
   "source": [
    "import math as m\n",
    "\n"
   ]
  },
  {
   "cell_type": "code",
   "execution_count": null,
   "metadata": {
    "collapsed": true
   },
   "outputs": [],
   "source": [
    "document = []\n",
    "classes = []\n",
    "\n",
    "#Calculating for the probability of a given class \n",
    "def calculateLogPriors(classes,c):\n",
    "    count = 0\n",
    "    for i in classes:\n",
    "        if i == c:\n",
    "            count+= 1\n",
    "        else:\n",
    "            pass\n",
    "    priorProb = count/len(classes)\n",
    "    return (m.log10(priorProb))"
   ]
  }
 ],
 "metadata": {
  "kernelspec": {
   "display_name": "Python 3",
   "language": "python",
   "name": "python3"
  },
  "language_info": {
   "codemirror_mode": {
    "name": "ipython",
    "version": 3
   },
   "file_extension": ".py",
   "mimetype": "text/x-python",
   "name": "python",
   "nbconvert_exporter": "python",
   "pygments_lexer": "ipython3",
   "version": "3.6.3"
  }
 },
 "nbformat": 4,
 "nbformat_minor": 2
}
